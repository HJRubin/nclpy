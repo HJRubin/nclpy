{
 "cells": [
  {
   "cell_type": "code",
   "execution_count": 11,
   "id": "connected-jungle",
   "metadata": {},
   "outputs": [],
   "source": [
    "from nclpy import random_string\n",
    "from nclpy import Map"
   ]
  },
  {
   "cell_type": "code",
   "execution_count": 5,
   "id": "charming-deviation",
   "metadata": {},
   "outputs": [
    {
     "data": {
      "text/plain": [
       "'wwk'"
      ]
     },
     "execution_count": 5,
     "metadata": {},
     "output_type": "execute_result"
    }
   ],
   "source": [
    "random_string()"
   ]
  },
  {
   "cell_type": "code",
   "execution_count": 3,
   "id": "unsigned-smell",
   "metadata": {},
   "outputs": [
    {
     "data": {
      "text/plain": [
       "'pllojg'"
      ]
     },
     "execution_count": 3,
     "metadata": {},
     "output_type": "execute_result"
    }
   ],
   "source": [
    "random_string(string_length=6)"
   ]
  },
  {
   "cell_type": "code",
   "execution_count": 6,
   "id": "criminal-bones",
   "metadata": {},
   "outputs": [
    {
     "data": {
      "text/plain": [
       "'rfnlwk'"
      ]
     },
     "execution_count": 6,
     "metadata": {},
     "output_type": "execute_result"
    }
   ],
   "source": [
    "random_string(string_length=6, use_seed = False)"
   ]
  },
  {
   "cell_type": "code",
   "execution_count": 12,
   "id": "smaller-football",
   "metadata": {
    "scrolled": true
   },
   "outputs": [
    {
     "data": {
      "application/vnd.jupyter.widget-view+json": {
       "model_id": "7da7c314abac4d5584d96499acb71bb5",
       "version_major": 2,
       "version_minor": 0
      },
      "text/plain": [
       "Map(center=[40, -100], controls=(ZoomControl(options=['position', 'zoom_in_text', 'zoom_in_title', 'zoom_out_t…"
      ]
     },
     "metadata": {},
     "output_type": "display_data"
    }
   ],
   "source": [
    "m = Map()\n",
    "m"
   ]
  },
  {
   "cell_type": "code",
   "execution_count": 14,
   "id": "united-bathroom",
   "metadata": {},
   "outputs": [],
   "source": [
    "m.add_geojson(\"./data/us_states.geojson\")"
   ]
  }
 ],
 "metadata": {
  "kernelspec": {
   "display_name": "Python 3",
   "language": "python",
   "name": "python3"
  },
  "language_info": {
   "codemirror_mode": {
    "name": "ipython",
    "version": 3
   },
   "file_extension": ".py",
   "mimetype": "text/x-python",
   "name": "python",
   "nbconvert_exporter": "python",
   "pygments_lexer": "ipython3",
   "version": "3.9.1"
  }
 },
 "nbformat": 4,
 "nbformat_minor": 5
}
