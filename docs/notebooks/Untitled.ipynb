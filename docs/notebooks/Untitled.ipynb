{
 "cells": [
  {
   "cell_type": "code",
   "execution_count": null,
   "id": "spread-metallic",
   "metadata": {},
   "outputs": [],
   "source": [
    "from nclpy import Map"
   ]
  },
  {
   "cell_type": "code",
   "execution_count": null,
   "id": "material-english",
   "metadata": {},
   "outputs": [],
   "source": [
    "m = nclpy.Map()\n",
    "m"
   ]
  },
  {
   "cell_type": "code",
   "execution_count": null,
   "id": "demographic-washer",
   "metadata": {},
   "outputs": [],
   "source": [
    "m.add_geojson"
   ]
  }
 ],
 "metadata": {
  "kernelspec": {
   "display_name": "Python 3",
   "language": "python",
   "name": "python3"
  },
  "language_info": {
   "codemirror_mode": {
    "name": "ipython",
    "version": 3
   },
   "file_extension": ".py",
   "mimetype": "text/x-python",
   "name": "python",
   "nbconvert_exporter": "python",
   "pygments_lexer": "ipython3",
   "version": "3.9.1"
  }
 },
 "nbformat": 4,
 "nbformat_minor": 5
}
